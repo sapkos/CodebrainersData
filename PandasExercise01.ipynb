{
 "cells": [
  {
   "cell_type": "code",
   "execution_count": 1,
   "id": "86e99eb9",
   "metadata": {},
   "outputs": [
    {
     "name": "stdout",
     "output_type": "stream",
     "text": [
      "airlines.csv\n",
      "airports.csv\n",
      "flights.csv\n",
      "planes.csv\n",
      "weather.csv\n"
     ]
    }
   ],
   "source": [
    "%%sh\n",
    "ls Exercise01/"
   ]
  },
  {
   "cell_type": "code",
   "execution_count": 9,
   "id": "1eddb8ae",
   "metadata": {},
   "outputs": [
    {
     "name": "stdout",
     "output_type": "stream",
     "text": [
      "airlines\n",
      "  carrier                    name\n",
      "0      9E       Endeavor Air Inc.\n",
      "1      AA  American Airlines Inc.\n",
      "2      AS    Alaska Airlines Inc.\n",
      "3      B6         JetBlue Airways\n",
      "4      DL    Delta Air Lines Inc.\n",
      "----------\n",
      "airports\n",
      "   faa                           name        lat        lon   alt  tz dst  \\\n",
      "0  04G              Lansdowne Airport  41.130472 -80.619583  1044  -5   A   \n",
      "1  06A  Moton Field Municipal Airport  32.460572 -85.680028   264  -6   A   \n",
      "2  06C            Schaumburg Regional  41.989341 -88.101243   801  -6   A   \n",
      "3  06N                Randall Airport  41.431912 -74.391561   523  -5   A   \n",
      "4  09J          Jekyll Island Airport  31.074472 -81.427778    11  -5   A   \n",
      "\n",
      "              tzone  \n",
      "0  America/New_York  \n",
      "1   America/Chicago  \n",
      "2   America/Chicago  \n",
      "3  America/New_York  \n",
      "4  America/New_York  \n",
      "----------\n",
      "flights\n",
      "   year  month  day  dep_time  sched_dep_time  dep_delay  arr_time  \\\n",
      "0  2013      1    1     517.0             515        2.0     830.0   \n",
      "1  2013      1    1     533.0             529        4.0     850.0   \n",
      "2  2013      1    1     542.0             540        2.0     923.0   \n",
      "3  2013      1    1     544.0             545       -1.0    1004.0   \n",
      "4  2013      1    1     554.0             600       -6.0     812.0   \n",
      "\n",
      "   sched_arr_time  arr_delay carrier  flight tailnum origin dest  air_time  \\\n",
      "0             819       11.0      UA    1545  N14228    EWR  IAH     227.0   \n",
      "1             830       20.0      UA    1714  N24211    LGA  IAH     227.0   \n",
      "2             850       33.0      AA    1141  N619AA    JFK  MIA     160.0   \n",
      "3            1022      -18.0      B6     725  N804JB    JFK  BQN     183.0   \n",
      "4             837      -25.0      DL     461  N668DN    LGA  ATL     116.0   \n",
      "\n",
      "   distance  hour  minute            time_hour  \n",
      "0      1400     5      15  2013-01-01 05:00:00  \n",
      "1      1416     5      29  2013-01-01 05:00:00  \n",
      "2      1089     5      40  2013-01-01 05:00:00  \n",
      "3      1576     5      45  2013-01-01 05:00:00  \n",
      "4       762     6       0  2013-01-01 06:00:00  \n",
      "----------\n",
      "planes\n",
      "  tailnum    year                     type      manufacturer      model  \\\n",
      "0  N10156  2004.0  Fixed wing multi engine           EMBRAER  EMB-145XR   \n",
      "1  N102UW  1998.0  Fixed wing multi engine  AIRBUS INDUSTRIE   A320-214   \n",
      "2  N103US  1999.0  Fixed wing multi engine  AIRBUS INDUSTRIE   A320-214   \n",
      "3  N104UW  1999.0  Fixed wing multi engine  AIRBUS INDUSTRIE   A320-214   \n",
      "4  N10575  2002.0  Fixed wing multi engine           EMBRAER  EMB-145LR   \n",
      "\n",
      "   engines  seats  speed     engine  \n",
      "0        2     55    NaN  Turbo-fan  \n",
      "1        2    182    NaN  Turbo-fan  \n",
      "2        2    182    NaN  Turbo-fan  \n",
      "3        2    182    NaN  Turbo-fan  \n",
      "4        2     55    NaN  Turbo-fan  \n",
      "----------\n",
      "weather\n",
      "  origin  year  month  day  hour   temp   dewp  humid  wind_dir  wind_speed  \\\n",
      "0    EWR  2013      1    1     1  39.02  26.06  59.37     270.0    10.35702   \n",
      "1    EWR  2013      1    1     2  39.02  26.96  61.63     250.0     8.05546   \n",
      "2    EWR  2013      1    1     3  39.02  28.04  64.43     240.0    11.50780   \n",
      "3    EWR  2013      1    1     4  39.92  28.04  62.21     250.0    12.65858   \n",
      "4    EWR  2013      1    1     5  39.02  28.04  64.43     260.0    12.65858   \n",
      "\n",
      "   wind_gust  precip  pressure  visib             time_hour  \n",
      "0        NaN     0.0    1012.0   10.0  2013-01-01T06:00:00Z  \n",
      "1        NaN     0.0    1012.3   10.0  2013-01-01T07:00:00Z  \n",
      "2        NaN     0.0    1012.5   10.0  2013-01-01T08:00:00Z  \n",
      "3        NaN     0.0    1012.2   10.0  2013-01-01T09:00:00Z  \n",
      "4        NaN     0.0    1011.9   10.0  2013-01-01T10:00:00Z  \n",
      "----------\n"
     ]
    }
   ],
   "source": [
    "import pandas as pd\n",
    "import numpy as np\n",
    "\n",
    "import sqlite3\n",
    "\n",
    "names = ('airlines', 'airports', 'flights', 'planes', 'weather')\n",
    "\n",
    "for name in names:\n",
    "    print(name)\n",
    "    print(\n",
    "        pd.read_csv(f\"Exercise01/{name}.csv\", comment='#').head()\n",
    "    )\n",
    "    print('-'*10)"
   ]
  },
  {
   "cell_type": "code",
   "execution_count": 3,
   "id": "709a55cf",
   "metadata": {},
   "outputs": [],
   "source": [
    "conn = sqlite3.connect('pandas_exercise_01')\n",
    "\n",
    "dfs = {}\n",
    "\n",
    "for name in names:\n",
    "    df = pd.read_csv(f\"Exercise01/{name}.csv\", comment='#')\n",
    "    dfs[name] = df\n",
    "    df.to_sql(name, con=conn, if_exists='replace')"
   ]
  },
  {
   "cell_type": "code",
   "execution_count": 4,
   "id": "693bfe50",
   "metadata": {},
   "outputs": [],
   "source": [
    "# SELECT engine FROM planes"
   ]
  },
  {
   "cell_type": "code",
   "execution_count": 6,
   "id": "71c9f960",
   "metadata": {},
   "outputs": [
    {
     "data": {
      "text/html": [
       "<div>\n",
       "<style scoped>\n",
       "    .dataframe tbody tr th:only-of-type {\n",
       "        vertical-align: middle;\n",
       "    }\n",
       "\n",
       "    .dataframe tbody tr th {\n",
       "        vertical-align: top;\n",
       "    }\n",
       "\n",
       "    .dataframe thead th {\n",
       "        text-align: right;\n",
       "    }\n",
       "</style>\n",
       "<table border=\"1\" class=\"dataframe\">\n",
       "  <thead>\n",
       "    <tr style=\"text-align: right;\">\n",
       "      <th></th>\n",
       "      <th>engine</th>\n",
       "    </tr>\n",
       "  </thead>\n",
       "  <tbody>\n",
       "    <tr>\n",
       "      <th>0</th>\n",
       "      <td>Turbo-fan</td>\n",
       "    </tr>\n",
       "    <tr>\n",
       "      <th>1</th>\n",
       "      <td>Turbo-fan</td>\n",
       "    </tr>\n",
       "    <tr>\n",
       "      <th>2</th>\n",
       "      <td>Turbo-fan</td>\n",
       "    </tr>\n",
       "    <tr>\n",
       "      <th>3</th>\n",
       "      <td>Turbo-fan</td>\n",
       "    </tr>\n",
       "    <tr>\n",
       "      <th>4</th>\n",
       "      <td>Turbo-fan</td>\n",
       "    </tr>\n",
       "    <tr>\n",
       "      <th>...</th>\n",
       "      <td>...</td>\n",
       "    </tr>\n",
       "    <tr>\n",
       "      <th>3317</th>\n",
       "      <td>Turbo-fan</td>\n",
       "    </tr>\n",
       "    <tr>\n",
       "      <th>3318</th>\n",
       "      <td>Turbo-fan</td>\n",
       "    </tr>\n",
       "    <tr>\n",
       "      <th>3319</th>\n",
       "      <td>Turbo-fan</td>\n",
       "    </tr>\n",
       "    <tr>\n",
       "      <th>3320</th>\n",
       "      <td>Turbo-jet</td>\n",
       "    </tr>\n",
       "    <tr>\n",
       "      <th>3321</th>\n",
       "      <td>Turbo-jet</td>\n",
       "    </tr>\n",
       "  </tbody>\n",
       "</table>\n",
       "<p>3322 rows × 1 columns</p>\n",
       "</div>"
      ],
      "text/plain": [
       "         engine\n",
       "0     Turbo-fan\n",
       "1     Turbo-fan\n",
       "2     Turbo-fan\n",
       "3     Turbo-fan\n",
       "4     Turbo-fan\n",
       "...         ...\n",
       "3317  Turbo-fan\n",
       "3318  Turbo-fan\n",
       "3319  Turbo-fan\n",
       "3320  Turbo-jet\n",
       "3321  Turbo-jet\n",
       "\n",
       "[3322 rows x 1 columns]"
      ]
     },
     "execution_count": 6,
     "metadata": {},
     "output_type": "execute_result"
    }
   ],
   "source": [
    "planes_df = dfs['planes']\n",
    "planes_df[['engine']]"
   ]
  },
  {
   "cell_type": "code",
   "execution_count": 1,
   "id": "42f7a36d",
   "metadata": {},
   "outputs": [],
   "source": [
    "# SELECT DISTINCT engine FROM planes"
   ]
  },
  {
   "cell_type": "code",
   "execution_count": 2,
   "id": "ebd046ce",
   "metadata": {},
   "outputs": [],
   "source": [
    "# SELECT DISTINCT type, manufacturer FROM planes"
   ]
  },
  {
   "cell_type": "code",
   "execution_count": 3,
   "id": "6775ae07",
   "metadata": {},
   "outputs": [],
   "source": [
    "# SELECT COUNT(*), engine FROM planes GROUP BY engine"
   ]
  },
  {
   "cell_type": "code",
   "execution_count": 4,
   "id": "cac541ab",
   "metadata": {},
   "outputs": [],
   "source": [
    "# SELECT COUNT(*), engine, type FROM planes\n",
    "# GROUP BY engine, type"
   ]
  },
  {
   "cell_type": "code",
   "execution_count": 5,
   "id": "25cfa397",
   "metadata": {},
   "outputs": [],
   "source": [
    "# SELECT MIN(year), AVG(year), MAX(year), engine, manufacturer FROM planes GROUP BY engine,\n",
    "# manufacturer"
   ]
  },
  {
   "cell_type": "code",
   "execution_count": 6,
   "id": "5796c958",
   "metadata": {},
   "outputs": [],
   "source": [
    "# SELECT * FROM planes WHERE speed IS NOT NULL"
   ]
  },
  {
   "cell_type": "code",
   "execution_count": 13,
   "id": "f923e5ff",
   "metadata": {},
   "outputs": [
    {
     "data": {
      "text/plain": [
       "0       False\n",
       "1        True\n",
       "2        True\n",
       "3        True\n",
       "4       False\n",
       "        ...  \n",
       "3317    False\n",
       "3318    False\n",
       "3319    False\n",
       "3320    False\n",
       "3321    False\n",
       "Name: seats, Length: 3322, dtype: bool"
      ]
     },
     "execution_count": 13,
     "metadata": {},
     "output_type": "execute_result"
    }
   ],
   "source": [
    "# SELECT tailnum FROM planes WHERE seats BETWEEN 150 AND 190 AND year >= 2012\n",
    "planes_df['seats'].between(150, 190)"
   ]
  },
  {
   "cell_type": "code",
   "execution_count": 8,
   "id": "19ae0542",
   "metadata": {},
   "outputs": [],
   "source": [
    "# SELECT * FROM planes WHERE manufacturer IN (\"BOEING\", \"AIRBUS\", \"EMBRAER\")\n",
    "# AND seats>390"
   ]
  },
  {
   "cell_type": "code",
   "execution_count": 9,
   "id": "4d184839",
   "metadata": {},
   "outputs": [],
   "source": [
    "# SELECT DISTINCT year, seats FROM planes WHERE year >= 2012\n",
    "# ORDER BY year ASC, seats DESC"
   ]
  },
  {
   "cell_type": "code",
   "execution_count": 10,
   "id": "539bc8ac",
   "metadata": {},
   "outputs": [],
   "source": [
    "#  SELECT manufacturer, COUNT(*) FROM planes WHERE seats > 200\n",
    "# GROUP BY manufacturer"
   ]
  },
  {
   "cell_type": "code",
   "execution_count": 11,
   "id": "a903f873",
   "metadata": {},
   "outputs": [],
   "source": [
    "# SELECT manufacturer, COUNT(*) FROM planes\n",
    "# GROUP BY manufacturer HAVING COUNT(*) > 10"
   ]
  },
  {
   "cell_type": "code",
   "execution_count": 7,
   "id": "66da9b76",
   "metadata": {},
   "outputs": [],
   "source": [
    "planes_df = dfs['planes']\n",
    "\n",
    "planes_df = planes_df.groupby('manufacturer')[['tailnum']].count()"
   ]
  },
  {
   "cell_type": "code",
   "execution_count": 8,
   "id": "255ba061",
   "metadata": {},
   "outputs": [
    {
     "data": {
      "text/html": [
       "<div>\n",
       "<style scoped>\n",
       "    .dataframe tbody tr th:only-of-type {\n",
       "        vertical-align: middle;\n",
       "    }\n",
       "\n",
       "    .dataframe tbody tr th {\n",
       "        vertical-align: top;\n",
       "    }\n",
       "\n",
       "    .dataframe thead th {\n",
       "        text-align: right;\n",
       "    }\n",
       "</style>\n",
       "<table border=\"1\" class=\"dataframe\">\n",
       "  <thead>\n",
       "    <tr style=\"text-align: right;\">\n",
       "      <th></th>\n",
       "      <th>tailnum</th>\n",
       "    </tr>\n",
       "    <tr>\n",
       "      <th>manufacturer</th>\n",
       "      <th></th>\n",
       "    </tr>\n",
       "  </thead>\n",
       "  <tbody>\n",
       "    <tr>\n",
       "      <th>AIRBUS</th>\n",
       "      <td>336</td>\n",
       "    </tr>\n",
       "    <tr>\n",
       "      <th>AIRBUS INDUSTRIE</th>\n",
       "      <td>400</td>\n",
       "    </tr>\n",
       "    <tr>\n",
       "      <th>BOEING</th>\n",
       "      <td>1630</td>\n",
       "    </tr>\n",
       "    <tr>\n",
       "      <th>BOMBARDIER INC</th>\n",
       "      <td>368</td>\n",
       "    </tr>\n",
       "    <tr>\n",
       "      <th>EMBRAER</th>\n",
       "      <td>299</td>\n",
       "    </tr>\n",
       "    <tr>\n",
       "      <th>MCDONNELL DOUGLAS</th>\n",
       "      <td>120</td>\n",
       "    </tr>\n",
       "    <tr>\n",
       "      <th>MCDONNELL DOUGLAS AIRCRAFT CO</th>\n",
       "      <td>103</td>\n",
       "    </tr>\n",
       "    <tr>\n",
       "      <th>MCDONNELL DOUGLAS CORPORATION</th>\n",
       "      <td>14</td>\n",
       "    </tr>\n",
       "  </tbody>\n",
       "</table>\n",
       "</div>"
      ],
      "text/plain": [
       "                               tailnum\n",
       "manufacturer                          \n",
       "AIRBUS                             336\n",
       "AIRBUS INDUSTRIE                   400\n",
       "BOEING                            1630\n",
       "BOMBARDIER INC                     368\n",
       "EMBRAER                            299\n",
       "MCDONNELL DOUGLAS                  120\n",
       "MCDONNELL DOUGLAS AIRCRAFT CO      103\n",
       "MCDONNELL DOUGLAS CORPORATION       14"
      ]
     },
     "execution_count": 8,
     "metadata": {},
     "output_type": "execute_result"
    }
   ],
   "source": [
    "planes_df[planes_df['tailnum'] > 10]"
   ]
  },
  {
   "cell_type": "code",
   "execution_count": null,
   "id": "c8d8ee5d",
   "metadata": {},
   "outputs": [],
   "source": []
  }
 ],
 "metadata": {
  "kernelspec": {
   "display_name": "Python 3 (ipykernel)",
   "language": "python",
   "name": "python3"
  },
  "language_info": {
   "codemirror_mode": {
    "name": "ipython",
    "version": 3
   },
   "file_extension": ".py",
   "mimetype": "text/x-python",
   "name": "python",
   "nbconvert_exporter": "python",
   "pygments_lexer": "ipython3",
   "version": "3.9.12"
  }
 },
 "nbformat": 4,
 "nbformat_minor": 5
}
